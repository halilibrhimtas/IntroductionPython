{
 "cells": [
  {
   "cell_type": "markdown",
   "id": "430f7bfd",
   "metadata": {},
   "source": [
    "INTRODUCTION PYTHON"
   ]
  },
  {
   "cell_type": "code",
   "execution_count": 6,
   "id": "651949e6",
   "metadata": {},
   "outputs": [
    {
     "name": "stdout",
     "output_type": "stream",
     "text": [
      "3.14\n"
     ]
    }
   ],
   "source": [
    "pi = 3.14\n",
    "print(pi)"
   ]
  },
  {
   "cell_type": "code",
   "execution_count": 7,
   "id": "1a35706c",
   "metadata": {},
   "outputs": [
    {
     "data": {
      "text/plain": [
       "float"
      ]
     },
     "execution_count": 7,
     "metadata": {},
     "output_type": "execute_result"
    }
   ],
   "source": [
    "type(pi)"
   ]
  },
  {
   "cell_type": "code",
   "execution_count": 8,
   "id": "90cc17c6",
   "metadata": {},
   "outputs": [],
   "source": [
    "def greetings(name):\n",
    "    print(f\"Hello, {name}\")"
   ]
  },
  {
   "cell_type": "code",
   "execution_count": 9,
   "id": "fb19c7fe",
   "metadata": {},
   "outputs": [
    {
     "name": "stdout",
     "output_type": "stream",
     "text": [
      "Hello, Halil\n"
     ]
    }
   ],
   "source": [
    "greetings(\"Halil\")"
   ]
  },
  {
   "cell_type": "code",
   "execution_count": 10,
   "id": "ef815f16",
   "metadata": {},
   "outputs": [
    {
     "name": "stdout",
     "output_type": "stream",
     "text": [
      "3.24\n"
     ]
    }
   ],
   "source": [
    "if pi<3.15:\n",
    "    pi = pi + 0.1\n",
    "print(pi)"
   ]
  },
  {
   "cell_type": "markdown",
   "id": "eea75cf2",
   "metadata": {},
   "source": [
    "VARIABLE, DATA TYPE"
   ]
  },
  {
   "cell_type": "code",
   "execution_count": 13,
   "id": "ed3b2a71",
   "metadata": {},
   "outputs": [
    {
     "data": {
      "text/plain": [
       "'Halil'"
      ]
     },
     "execution_count": 13,
     "metadata": {},
     "output_type": "execute_result"
    }
   ],
   "source": [
    "name = \"Halil\"\n",
    "name"
   ]
  },
  {
   "cell_type": "code",
   "execution_count": 14,
   "id": "7c328603",
   "metadata": {},
   "outputs": [
    {
     "data": {
      "text/plain": [
       "str"
      ]
     },
     "execution_count": 14,
     "metadata": {},
     "output_type": "execute_result"
    }
   ],
   "source": [
    "type(name)"
   ]
  },
  {
   "cell_type": "code",
   "execution_count": 16,
   "id": "8b358f6f",
   "metadata": {},
   "outputs": [
    {
     "data": {
      "text/plain": [
       "int"
      ]
     },
     "execution_count": 16,
     "metadata": {},
     "output_type": "execute_result"
    }
   ],
   "source": [
    "age = 25\n",
    "type(age)"
   ]
  },
  {
   "cell_type": "code",
   "execution_count": 18,
   "id": "9778c6a9",
   "metadata": {},
   "outputs": [
    {
     "name": "stdout",
     "output_type": "stream",
     "text": [
      "['Apple', 25, 'Banana', 3.14] <class 'list'>\n"
     ]
    }
   ],
   "source": [
    "list = [\"Apple\", 25, \"Banana\", 3.14]\n",
    "print(list, type(list))"
   ]
  },
  {
   "cell_type": "code",
   "execution_count": 19,
   "id": "b601904b",
   "metadata": {},
   "outputs": [
    {
     "data": {
      "text/plain": [
       "'Apple'"
      ]
     },
     "execution_count": 19,
     "metadata": {},
     "output_type": "execute_result"
    }
   ],
   "source": [
    "list[0]"
   ]
  },
  {
   "cell_type": "code",
   "execution_count": 20,
   "id": "c24f1212",
   "metadata": {},
   "outputs": [
    {
     "data": {
      "text/plain": [
       "25"
      ]
     },
     "execution_count": 20,
     "metadata": {},
     "output_type": "execute_result"
    }
   ],
   "source": [
    "list[1]"
   ]
  },
  {
   "cell_type": "code",
   "execution_count": 21,
   "id": "d8898b1d",
   "metadata": {},
   "outputs": [
    {
     "data": {
      "text/plain": [
       "['Banana', 3.14]"
      ]
     },
     "execution_count": 21,
     "metadata": {},
     "output_type": "execute_result"
    }
   ],
   "source": [
    "list[2:4]"
   ]
  },
  {
   "cell_type": "code",
   "execution_count": 22,
   "id": "da76e823",
   "metadata": {},
   "outputs": [
    {
     "data": {
      "text/plain": [
       "[25, 'Banana', 3.14]"
      ]
     },
     "execution_count": 22,
     "metadata": {},
     "output_type": "execute_result"
    }
   ],
   "source": [
    "list[1:]"
   ]
  },
  {
   "cell_type": "code",
   "execution_count": 23,
   "id": "8b7c6493",
   "metadata": {},
   "outputs": [
    {
     "data": {
      "text/plain": [
       "['Apple', 25]"
      ]
     },
     "execution_count": 23,
     "metadata": {},
     "output_type": "execute_result"
    }
   ],
   "source": [
    "list[:2]"
   ]
  },
  {
   "cell_type": "code",
   "execution_count": 24,
   "id": "a8b8d2c3",
   "metadata": {},
   "outputs": [
    {
     "data": {
      "text/plain": [
       "['Apple', 'Pasta', 'Banana', 3.14]"
      ]
     },
     "execution_count": 24,
     "metadata": {},
     "output_type": "execute_result"
    }
   ],
   "source": [
    "list[1] = \"Pasta\"\n",
    "list"
   ]
  },
  {
   "cell_type": "code",
   "execution_count": 25,
   "id": "248b8892",
   "metadata": {},
   "outputs": [
    {
     "data": {
      "text/plain": [
       "['Apple', 'Pasta', 'Banana', 3.44]"
      ]
     },
     "execution_count": 25,
     "metadata": {},
     "output_type": "execute_result"
    }
   ],
   "source": [
    "list[3] += 0.3\n",
    "list"
   ]
  },
  {
   "cell_type": "code",
   "execution_count": 26,
   "id": "42887122",
   "metadata": {},
   "outputs": [
    {
     "data": {
      "text/plain": [
       "str"
      ]
     },
     "execution_count": 26,
     "metadata": {},
     "output_type": "execute_result"
    }
   ],
   "source": [
    "string_number = \"10\"\n",
    "type(string_number)"
   ]
  },
  {
   "cell_type": "markdown",
   "id": "8e89b52b",
   "metadata": {},
   "source": [
    "INPUT-OUTPUT FUNCTIONS"
   ]
  },
  {
   "cell_type": "code",
   "execution_count": 29,
   "id": "1fca2a69",
   "metadata": {},
   "outputs": [
    {
     "name": "stdout",
     "output_type": "stream",
     "text": [
      "Please, input name: halil\n",
      "Welcame halil\n"
     ]
    }
   ],
   "source": [
    "name = input(\"Please, input name: \")\n",
    "print(\"Welcame\",name)"
   ]
  },
  {
   "cell_type": "code",
   "execution_count": 32,
   "id": "00f75e43",
   "metadata": {},
   "outputs": [
    {
     "name": "stdout",
     "output_type": "stream",
     "text": [
      "Please,enter your age: 22\n"
     ]
    },
    {
     "ename": "TypeError",
     "evalue": "unsupported operand type(s) for -: 'int' and 'str'",
     "output_type": "error",
     "traceback": [
      "\u001b[1;31m---------------------------------------------------------------------------\u001b[0m",
      "\u001b[1;31mTypeError\u001b[0m                                 Traceback (most recent call last)",
      "\u001b[1;32m~\\AppData\\Local\\Temp/ipykernel_10136/4136185955.py\u001b[0m in \u001b[0;36m<module>\u001b[1;34m\u001b[0m\n\u001b[0;32m      1\u001b[0m \u001b[0mage\u001b[0m \u001b[1;33m=\u001b[0m \u001b[0minput\u001b[0m\u001b[1;33m(\u001b[0m\u001b[1;34m\"Please,enter your age: \"\u001b[0m\u001b[1;33m)\u001b[0m\u001b[1;33m\u001b[0m\u001b[1;33m\u001b[0m\u001b[0m\n\u001b[1;32m----> 2\u001b[1;33m \u001b[0mprint\u001b[0m\u001b[1;33m(\u001b[0m\u001b[1;34m\"Born date: \"\u001b[0m\u001b[1;33m,\u001b[0m \u001b[1;36m2022\u001b[0m\u001b[1;33m-\u001b[0m\u001b[0mage\u001b[0m\u001b[1;33m)\u001b[0m\u001b[1;33m\u001b[0m\u001b[1;33m\u001b[0m\u001b[0m\n\u001b[0m",
      "\u001b[1;31mTypeError\u001b[0m: unsupported operand type(s) for -: 'int' and 'str'"
     ]
    }
   ],
   "source": [
    "age = input(\"Please,enter your age: \")\n",
    "print(\"Born date: \", 2022-age)"
   ]
  },
  {
   "cell_type": "code",
   "execution_count": 31,
   "id": "0ca8b5a8",
   "metadata": {},
   "outputs": [
    {
     "name": "stdout",
     "output_type": "stream",
     "text": [
      "Please,enter your age: 22\n",
      "Born date:  2000\n"
     ]
    }
   ],
   "source": [
    "age = int(input(\"Please,enter your age: \"))\n",
    "print(\"Born date: \", 2022-age)"
   ]
  },
  {
   "cell_type": "markdown",
   "id": "969cfc56",
   "metadata": {},
   "source": [
    "IMPORT"
   ]
  },
  {
   "cell_type": "code",
   "execution_count": 33,
   "id": "49bf8e32",
   "metadata": {},
   "outputs": [],
   "source": [
    "import math"
   ]
  },
  {
   "cell_type": "code",
   "execution_count": 35,
   "id": "8850b1d2",
   "metadata": {},
   "outputs": [
    {
     "name": "stdout",
     "output_type": "stream",
     "text": [
      "3\n"
     ]
    }
   ],
   "source": [
    "floor_number = (math.floor(3.55))\n",
    "print(floor_number)"
   ]
  },
  {
   "cell_type": "code",
   "execution_count": 36,
   "id": "111c62ed",
   "metadata": {},
   "outputs": [],
   "source": [
    "import datetime"
   ]
  },
  {
   "cell_type": "code",
   "execution_count": 38,
   "id": "8309d0cc",
   "metadata": {},
   "outputs": [
    {
     "name": "stdout",
     "output_type": "stream",
     "text": [
      "2022-06-26 22:27:05.711853\n"
     ]
    }
   ],
   "source": [
    "print(datetime.datetime.now())"
   ]
  },
  {
   "cell_type": "code",
   "execution_count": 39,
   "id": "21da8a7f",
   "metadata": {},
   "outputs": [
    {
     "name": "stdout",
     "output_type": "stream",
     "text": [
      "4\n"
     ]
    }
   ],
   "source": [
    "import random \n",
    "print(random.randint(1,6))"
   ]
  },
  {
   "cell_type": "code",
   "execution_count": 40,
   "id": "50dac065",
   "metadata": {},
   "outputs": [
    {
     "name": "stdout",
     "output_type": "stream",
     "text": [
      "1\n"
     ]
    }
   ],
   "source": [
    "print(random.randint(1,6))"
   ]
  },
  {
   "cell_type": "markdown",
   "id": "0e0990f4",
   "metadata": {},
   "source": [
    "OPERATORS"
   ]
  },
  {
   "cell_type": "code",
   "execution_count": 41,
   "id": "165498b7",
   "metadata": {},
   "outputs": [
    {
     "name": "stdout",
     "output_type": "stream",
     "text": [
      "12\n"
     ]
    }
   ],
   "source": [
    "print(5+7)"
   ]
  },
  {
   "cell_type": "code",
   "execution_count": 42,
   "id": "fda39188",
   "metadata": {},
   "outputs": [
    {
     "name": "stdout",
     "output_type": "stream",
     "text": [
      "12\n"
     ]
    }
   ],
   "source": [
    "print(17-5)"
   ]
  },
  {
   "cell_type": "code",
   "execution_count": 43,
   "id": "80575e2b",
   "metadata": {},
   "outputs": [
    {
     "name": "stdout",
     "output_type": "stream",
     "text": [
      "5+7 =  12\n",
      "5-7 =  -2\n",
      "5*7 =  35\n",
      "7/5 =  1.4\n",
      "7//5 =  1\n",
      "7**5 =  16807\n",
      "7%5 =  2\n"
     ]
    }
   ],
   "source": [
    "#operators example\n",
    "print(\"5+7 = \", 5+7)\n",
    "print(\"5-7 = \", 5-7)\n",
    "print(\"5*7 = \", 5*7)\n",
    "print(\"7/5 = \", 7/5)\n",
    "print(\"7//5 = \", 7//5)\n",
    "print(\"7**5 = \", 7**5)\n",
    "print(\"7%5 = \", 7%5)"
   ]
  },
  {
   "cell_type": "code",
   "execution_count": 45,
   "id": "0968b353",
   "metadata": {},
   "outputs": [],
   "source": [
    "x = 2\n",
    "x += 2\n",
    "x -= 2\n",
    "x *= 2\n",
    "x /= 2\n",
    "x %= 2\n",
    "x //= 2\n",
    "x **= 2"
   ]
  },
  {
   "cell_type": "code",
   "execution_count": 47,
   "id": "56e7b89a",
   "metadata": {},
   "outputs": [
    {
     "name": "stdout",
     "output_type": "stream",
     "text": [
      "True\n",
      "False\n",
      "True\n",
      "False\n",
      "False\n",
      "True\n"
     ]
    }
   ],
   "source": [
    "num1 = 10\n",
    "num2 = 2\n",
    "\n",
    "print(num1>num2)\n",
    "print(num1<num2)\n",
    "print(num1>=num2)\n",
    "print(num1<=num2)\n",
    "print(num1==num2)\n",
    "print(num1!=num2)\n"
   ]
  },
  {
   "cell_type": "code",
   "execution_count": 48,
   "id": "e6a2c425",
   "metadata": {},
   "outputs": [
    {
     "data": {
      "text/plain": [
       "str"
      ]
     },
     "execution_count": 48,
     "metadata": {},
     "output_type": "execute_result"
    }
   ],
   "source": [
    "name = \"Deniz\"\n",
    "a = 2\n",
    "type(name*a)"
   ]
  },
  {
   "cell_type": "markdown",
   "id": "13f5472b",
   "metadata": {},
   "source": [
    "    IF-ELSE STATEMENTS"
   ]
  },
  {
   "cell_type": "code",
   "execution_count": 3,
   "id": "fe5cd9c0",
   "metadata": {},
   "outputs": [
    {
     "name": "stdout",
     "output_type": "stream",
     "text": [
      "Enter your age: 15\n",
      "Login failed!\n"
     ]
    }
   ],
   "source": [
    "age = input(\"Enter your age: \")\n",
    "if int(age) < 18:\n",
    "    print(\"Login failed!\")\n",
    "else:\n",
    "    print(\"Login success!\")"
   ]
  },
  {
   "cell_type": "code",
   "execution_count": 5,
   "id": "733969b8",
   "metadata": {},
   "outputs": [
    {
     "name": "stdout",
     "output_type": "stream",
     "text": [
      "Enter your age: 19\n",
      "%30 discount\n"
     ]
    }
   ],
   "source": [
    "age = int(input(\"Enter your age: \"))\n",
    "if age < 18:\n",
    "    print(\"Free entry\")\n",
    "elif 18 <= age < 25:\n",
    "    print(\"%30 discount\")\n",
    "else:\n",
    "    print(\"Full fee\")"
   ]
  },
  {
   "cell_type": "markdown",
   "id": "75526c17",
   "metadata": {},
   "source": [
    "FOR LOOPS"
   ]
  },
  {
   "cell_type": "code",
   "execution_count": 6,
   "id": "2da827a7",
   "metadata": {},
   "outputs": [
    {
     "name": "stdout",
     "output_type": "stream",
     "text": [
      "H\n",
      "a\n",
      "l\n",
      "i\n",
      "l\n"
     ]
    }
   ],
   "source": [
    "my_name = \"Halil\"\n",
    "for i in my_name:\n",
    "    print(i)"
   ]
  },
  {
   "cell_type": "code",
   "execution_count": 7,
   "id": "6ce0fb06",
   "metadata": {},
   "outputs": [
    {
     "name": "stdout",
     "output_type": "stream",
     "text": [
      "1\n",
      "2\n",
      "3\n",
      "4\n",
      "5\n"
     ]
    }
   ],
   "source": [
    "numbers = [1,2,3,4,5]\n",
    "for i in numbers:\n",
    "    print(i)"
   ]
  },
  {
   "cell_type": "code",
   "execution_count": 8,
   "id": "d5dab586",
   "metadata": {},
   "outputs": [
    {
     "name": "stdout",
     "output_type": "stream",
     "text": [
      "10\n",
      "11\n",
      "12\n",
      "13\n",
      "14\n"
     ]
    }
   ],
   "source": [
    "for i in range(10,15):\n",
    "    print(i)"
   ]
  },
  {
   "cell_type": "code",
   "execution_count": 9,
   "id": "d821afea",
   "metadata": {},
   "outputs": [
    {
     "name": "stdout",
     "output_type": "stream",
     "text": [
      "7\n",
      "14\n",
      "21\n",
      "28\n",
      "35\n",
      "42\n",
      "49\n",
      "56\n",
      "63\n",
      "70\n",
      "77\n",
      "84\n",
      "91\n",
      "98\n"
     ]
    }
   ],
   "source": [
    "for i in range(1,101):\n",
    "    if i%7 == 0:\n",
    "        print(i)"
   ]
  },
  {
   "cell_type": "markdown",
   "id": "7a555d8b",
   "metadata": {},
   "source": [
    "WHILE LOOP\n"
   ]
  },
  {
   "cell_type": "code",
   "execution_count": null,
   "id": "2b45e3d7",
   "metadata": {},
   "outputs": [],
   "source": [
    "import random\n",
    "number = random.randint(1,80)\n",
    "print(number)\n",
    "epocs = 0\n",
    "\n",
    "while number < 100:\n",
    "    epocs +=1\n",
    "\n",
    "print(epocs)"
   ]
  },
  {
   "cell_type": "code",
   "execution_count": null,
   "id": "d9944b68",
   "metadata": {},
   "outputs": [],
   "source": [
    "epoc = 0\n",
    "while True:\n",
    "    random_number = random.randrange(100)\n",
    "    epoc += 1\n",
    "    print(random_number)\n",
    "    \n",
    "    if random_number == 33 :\n",
    "        print(\"Number found!\")\n",
    "        break\n",
    "\n",
    "print(epoc)\n",
    "\n",
    "        "
   ]
  },
  {
   "cell_type": "code",
   "execution_count": 22,
   "id": "9332d441",
   "metadata": {},
   "outputs": [
    {
     "name": "stdout",
     "output_type": "stream",
     "text": [
      "Max is a string!\n",
      "Felix is a string!\n",
      "Deniz is a string!\n",
      "Lucas is a string!\n",
      "Found 26\n"
     ]
    }
   ],
   "source": [
    "names = [\"Max\",\"Felix\",\"Deniz\",\"Lucas\", 26]\n",
    "\n",
    "for name in names:\n",
    "    if type(name) != str:\n",
    "        print(\"Found\", name)\n",
    "        \n",
    "    else:\n",
    "        print(name,\"is a string!\")"
   ]
  },
  {
   "cell_type": "code",
   "execution_count": 23,
   "id": "b195e529",
   "metadata": {},
   "outputs": [
    {
     "name": "stdout",
     "output_type": "stream",
     "text": [
      "How many rounds?: 5\n",
      "paper\n",
      "paper\n",
      "Tie\n",
      "Round:  1\n",
      "Player 1:  0 Player 2:  0\n",
      "paper\n",
      "paper\n",
      "Tie\n",
      "Round:  2\n",
      "Player 1:  0 Player 2:  0\n",
      "rock\n",
      "scissors\n",
      "Round:  3\n",
      "Player 1:  1 Player 2:  0\n",
      "paper\n",
      "rock\n",
      "Round:  4\n",
      "Player 1:  2 Player 2:  0\n",
      "rock\n",
      "paper\n",
      "Round:  5\n",
      "Player 1:  2 Player 2:  1\n"
     ]
    }
   ],
   "source": [
    "import random\n",
    "\n",
    "action = [\"rock\",\"paper\",\"scissors\"]\n",
    "\n",
    "player1_score = 0\n",
    "player2_score = 0\n",
    "\n",
    "rounds = int(input(\"How many rounds?: \"))\n",
    "\n",
    "\n",
    "for x in range(rounds):\n",
    "    player1 = random.choice(action)\n",
    "    player2 = random.choice(action)\n",
    "\n",
    "    print(player1)\n",
    "    print(player2)\n",
    "    \n",
    "    if player1 == player2:\n",
    "        print(\"Tie\")\n",
    "    elif player1 == \"paper\" and player2 == \"rock\":\n",
    "        player1_score += 1\n",
    "    elif player1 == \"paper\" and player2 == \"scissors\":\n",
    "        player2_score += 1\n",
    "    elif player1 == \"scissors\" and player2 == \"paper\":\n",
    "        player1_score += 1\n",
    "    elif player1 == \"scissors\" and player2 == \"rock\":\n",
    "        player2_score += 1\n",
    "    elif player1 == \"rock\" and player2 == \"scissors\":\n",
    "        player1_score += 1\n",
    "    elif player1 == \"rock\" and player2 == \"paper\":\n",
    "        player2_score += 1\n",
    "    \n",
    "    print(\"Round: \", x+1)\n",
    "    print(\"Player 1: \", player1_score, \"Player 2: \", player2_score)"
   ]
  },
  {
   "cell_type": "markdown",
   "id": "1ecedc48",
   "metadata": {},
   "source": [
    "FUNCTIONS"
   ]
  },
  {
   "cell_type": "code",
   "execution_count": 25,
   "id": "e0d2148b",
   "metadata": {},
   "outputs": [
    {
     "name": "stdout",
     "output_type": "stream",
     "text": [
      "Hello Halil\n"
     ]
    }
   ],
   "source": [
    "def hello(name):\n",
    "    print(\"Hello\", name)\n",
    "    \n",
    "hello(\"Halil\")"
   ]
  },
  {
   "cell_type": "code",
   "execution_count": 27,
   "id": "2077e75e",
   "metadata": {},
   "outputs": [
    {
     "name": "stdout",
     "output_type": "stream",
     "text": [
      "8\n"
     ]
    }
   ],
   "source": [
    "def sum(num1,num2):\n",
    "    print(num1+num2)\n",
    "\n",
    "sum(3,5)"
   ]
  },
  {
   "cell_type": "code",
   "execution_count": 28,
   "id": "8ce9d270",
   "metadata": {},
   "outputs": [
    {
     "name": "stdout",
     "output_type": "stream",
     "text": [
      "8\n"
     ]
    }
   ],
   "source": [
    "def sum(number1, number2):\n",
    "    answer = number1 + number2\n",
    "    return answer\n",
    "result = sum(3,5)\n",
    "print(result)"
   ]
  },
  {
   "cell_type": "code",
   "execution_count": 29,
   "id": "e34b2586",
   "metadata": {},
   "outputs": [],
   "source": [
    "def greetings(first_name, last_name, auto_correction):\n",
    "    if auto_correction == True:\n",
    "        capitalized_first_name = first_name.capitalize()\n",
    "        capitalized_last_name = last_name.capitalize()\n",
    "        print(\"Hello,\", capitalized_first_name, capitalized_last_name)\n",
    "    else:\n",
    "        print(\"Hello,\", first_name, last_name)"
   ]
  },
  {
   "cell_type": "code",
   "execution_count": 30,
   "id": "5a382e50",
   "metadata": {},
   "outputs": [
    {
     "name": "stdout",
     "output_type": "stream",
     "text": [
      "Hello, Halil ibrahım Tas\n"
     ]
    }
   ],
   "source": [
    "greetings(\"HaLiL IbrAhım\", \"TaS\", True)"
   ]
  },
  {
   "cell_type": "code",
   "execution_count": 31,
   "id": "7d5e6e2c",
   "metadata": {},
   "outputs": [
    {
     "name": "stdout",
     "output_type": "stream",
     "text": [
      "Hello, HaLiL IbrAhım TaS\n"
     ]
    }
   ],
   "source": [
    "greetings(\"HaLiL IbrAhım\", \"TaS\", False)"
   ]
  },
  {
   "cell_type": "code",
   "execution_count": 32,
   "id": "bb7f35a6",
   "metadata": {},
   "outputs": [],
   "source": [
    "def car(brand,model,color):\n",
    "    print(\"My favourite car is the\", brand, model,\"in the color\", color)"
   ]
  },
  {
   "cell_type": "code",
   "execution_count": 33,
   "id": "4a6db486",
   "metadata": {},
   "outputs": [
    {
     "name": "stdout",
     "output_type": "stream",
     "text": [
      "My favourite car is the Audi R8 in the color black\n"
     ]
    }
   ],
   "source": [
    "car(color =\"black\", model=\"R8\", brand = \"Audi\")"
   ]
  },
  {
   "cell_type": "code",
   "execution_count": 34,
   "id": "f2d572ec",
   "metadata": {},
   "outputs": [
    {
     "name": "stdout",
     "output_type": "stream",
     "text": [
      "Requirement already satisfied: seaborn in c:\\programdata\\anaconda3\\lib\\site-packages (0.11.2)\n",
      "Requirement already satisfied: numpy>=1.15 in c:\\programdata\\anaconda3\\lib\\site-packages (from seaborn) (1.20.3)\n",
      "Requirement already satisfied: matplotlib>=2.2 in c:\\programdata\\anaconda3\\lib\\site-packages (from seaborn) (3.4.3)\n",
      "Requirement already satisfied: pandas>=0.23 in c:\\programdata\\anaconda3\\lib\\site-packages (from seaborn) (1.3.4)\n",
      "Requirement already satisfied: scipy>=1.0 in c:\\programdata\\anaconda3\\lib\\site-packages (from seaborn) (1.7.1)\n",
      "Requirement already satisfied: kiwisolver>=1.0.1 in c:\\programdata\\anaconda3\\lib\\site-packages (from matplotlib>=2.2->seaborn) (1.3.1)\n",
      "Requirement already satisfied: pyparsing>=2.2.1 in c:\\programdata\\anaconda3\\lib\\site-packages (from matplotlib>=2.2->seaborn) (3.0.4)\n",
      "Requirement already satisfied: cycler>=0.10 in c:\\programdata\\anaconda3\\lib\\site-packages (from matplotlib>=2.2->seaborn) (0.10.0)\n",
      "Requirement already satisfied: pillow>=6.2.0 in c:\\programdata\\anaconda3\\lib\\site-packages (from matplotlib>=2.2->seaborn) (8.4.0)\n",
      "Requirement already satisfied: python-dateutil>=2.7 in c:\\programdata\\anaconda3\\lib\\site-packages (from matplotlib>=2.2->seaborn) (2.8.2)\n",
      "Requirement already satisfied: six in c:\\programdata\\anaconda3\\lib\\site-packages (from cycler>=0.10->matplotlib>=2.2->seaborn) (1.16.0)\n",
      "Requirement already satisfied: pytz>=2017.3 in c:\\programdata\\anaconda3\\lib\\site-packages (from pandas>=0.23->seaborn) (2021.3)\n"
     ]
    }
   ],
   "source": [
    "!pip install seaborn"
   ]
  },
  {
   "cell_type": "code",
   "execution_count": 35,
   "id": "290f6f09",
   "metadata": {},
   "outputs": [],
   "source": [
    "import seaborn as sns"
   ]
  },
  {
   "cell_type": "code",
   "execution_count": 25,
   "id": "1a311cf6",
   "metadata": {},
   "outputs": [
    {
     "name": "stderr",
     "output_type": "stream",
     "text": [
      "C:\\ProgramData\\Anaconda3\\lib\\site-packages\\seaborn\\_decorators.py:36: FutureWarning: Pass the following variables as keyword args: x, y. From version 0.12, the only valid positional argument will be `data`, and passing other arguments without an explicit keyword will result in an error or misinterpretation.\n",
      "  warnings.warn(\n"
     ]
    },
    {
     "ename": "ValueError",
     "evalue": "All arrays must be of the same length",
     "output_type": "error",
     "traceback": [
      "\u001b[1;31m---------------------------------------------------------------------------\u001b[0m",
      "\u001b[1;31mValueError\u001b[0m                                Traceback (most recent call last)",
      "\u001b[1;32m~\\AppData\\Local\\Temp/ipykernel_18176/2804822657.py\u001b[0m in \u001b[0;36m<module>\u001b[1;34m\u001b[0m\n\u001b[0;32m      1\u001b[0m \u001b[1;32mimport\u001b[0m \u001b[0mseaborn\u001b[0m \u001b[1;32mas\u001b[0m \u001b[0msns\u001b[0m\u001b[1;33m\u001b[0m\u001b[1;33m\u001b[0m\u001b[0m\n\u001b[0;32m      2\u001b[0m \u001b[0mdata\u001b[0m \u001b[1;33m=\u001b[0m \u001b[1;33m[\u001b[0m\u001b[1;36m1\u001b[0m\u001b[1;33m,\u001b[0m\u001b[1;36m2\u001b[0m\u001b[1;33m,\u001b[0m\u001b[1;36m19\u001b[0m\u001b[1;33m,\u001b[0m\u001b[1;36m3\u001b[0m\u001b[1;33m,\u001b[0m\u001b[1;36m6\u001b[0m\u001b[1;33m,\u001b[0m\u001b[1;36m14\u001b[0m\u001b[1;33m]\u001b[0m\u001b[1;33m\u001b[0m\u001b[1;33m\u001b[0m\u001b[0m\n\u001b[1;32m----> 3\u001b[1;33m \u001b[0msns\u001b[0m\u001b[1;33m.\u001b[0m\u001b[0mlineplot\u001b[0m\u001b[1;33m(\u001b[0m\u001b[0mrange\u001b[0m\u001b[1;33m(\u001b[0m\u001b[1;36m7\u001b[0m\u001b[1;33m)\u001b[0m\u001b[1;33m,\u001b[0m \u001b[0mdata\u001b[0m\u001b[1;33m)\u001b[0m\u001b[1;33m\u001b[0m\u001b[1;33m\u001b[0m\u001b[0m\n\u001b[0m",
      "\u001b[1;32mC:\\ProgramData\\Anaconda3\\lib\\site-packages\\seaborn\\_decorators.py\u001b[0m in \u001b[0;36minner_f\u001b[1;34m(*args, **kwargs)\u001b[0m\n\u001b[0;32m     44\u001b[0m             )\n\u001b[0;32m     45\u001b[0m         \u001b[0mkwargs\u001b[0m\u001b[1;33m.\u001b[0m\u001b[0mupdate\u001b[0m\u001b[1;33m(\u001b[0m\u001b[1;33m{\u001b[0m\u001b[0mk\u001b[0m\u001b[1;33m:\u001b[0m \u001b[0marg\u001b[0m \u001b[1;32mfor\u001b[0m \u001b[0mk\u001b[0m\u001b[1;33m,\u001b[0m \u001b[0marg\u001b[0m \u001b[1;32min\u001b[0m \u001b[0mzip\u001b[0m\u001b[1;33m(\u001b[0m\u001b[0msig\u001b[0m\u001b[1;33m.\u001b[0m\u001b[0mparameters\u001b[0m\u001b[1;33m,\u001b[0m \u001b[0margs\u001b[0m\u001b[1;33m)\u001b[0m\u001b[1;33m}\u001b[0m\u001b[1;33m)\u001b[0m\u001b[1;33m\u001b[0m\u001b[1;33m\u001b[0m\u001b[0m\n\u001b[1;32m---> 46\u001b[1;33m         \u001b[1;32mreturn\u001b[0m \u001b[0mf\u001b[0m\u001b[1;33m(\u001b[0m\u001b[1;33m**\u001b[0m\u001b[0mkwargs\u001b[0m\u001b[1;33m)\u001b[0m\u001b[1;33m\u001b[0m\u001b[1;33m\u001b[0m\u001b[0m\n\u001b[0m\u001b[0;32m     47\u001b[0m     \u001b[1;32mreturn\u001b[0m \u001b[0minner_f\u001b[0m\u001b[1;33m\u001b[0m\u001b[1;33m\u001b[0m\u001b[0m\n\u001b[0;32m     48\u001b[0m \u001b[1;33m\u001b[0m\u001b[0m\n",
      "\u001b[1;32mC:\\ProgramData\\Anaconda3\\lib\\site-packages\\seaborn\\relational.py\u001b[0m in \u001b[0;36mlineplot\u001b[1;34m(x, y, hue, size, style, data, palette, hue_order, hue_norm, sizes, size_order, size_norm, dashes, markers, style_order, units, estimator, ci, n_boot, seed, sort, err_style, err_kws, legend, ax, **kwargs)\u001b[0m\n\u001b[0;32m    690\u001b[0m \u001b[1;33m\u001b[0m\u001b[0m\n\u001b[0;32m    691\u001b[0m     \u001b[0mvariables\u001b[0m \u001b[1;33m=\u001b[0m \u001b[0m_LinePlotter\u001b[0m\u001b[1;33m.\u001b[0m\u001b[0mget_semantics\u001b[0m\u001b[1;33m(\u001b[0m\u001b[0mlocals\u001b[0m\u001b[1;33m(\u001b[0m\u001b[1;33m)\u001b[0m\u001b[1;33m)\u001b[0m\u001b[1;33m\u001b[0m\u001b[1;33m\u001b[0m\u001b[0m\n\u001b[1;32m--> 692\u001b[1;33m     p = _LinePlotter(\n\u001b[0m\u001b[0;32m    693\u001b[0m         \u001b[0mdata\u001b[0m\u001b[1;33m=\u001b[0m\u001b[0mdata\u001b[0m\u001b[1;33m,\u001b[0m \u001b[0mvariables\u001b[0m\u001b[1;33m=\u001b[0m\u001b[0mvariables\u001b[0m\u001b[1;33m,\u001b[0m\u001b[1;33m\u001b[0m\u001b[1;33m\u001b[0m\u001b[0m\n\u001b[0;32m    694\u001b[0m         \u001b[0mestimator\u001b[0m\u001b[1;33m=\u001b[0m\u001b[0mestimator\u001b[0m\u001b[1;33m,\u001b[0m \u001b[0mci\u001b[0m\u001b[1;33m=\u001b[0m\u001b[0mci\u001b[0m\u001b[1;33m,\u001b[0m \u001b[0mn_boot\u001b[0m\u001b[1;33m=\u001b[0m\u001b[0mn_boot\u001b[0m\u001b[1;33m,\u001b[0m \u001b[0mseed\u001b[0m\u001b[1;33m=\u001b[0m\u001b[0mseed\u001b[0m\u001b[1;33m,\u001b[0m\u001b[1;33m\u001b[0m\u001b[1;33m\u001b[0m\u001b[0m\n",
      "\u001b[1;32mC:\\ProgramData\\Anaconda3\\lib\\site-packages\\seaborn\\relational.py\u001b[0m in \u001b[0;36m__init__\u001b[1;34m(self, data, variables, estimator, ci, n_boot, seed, sort, err_style, err_kws, legend)\u001b[0m\n\u001b[0;32m    365\u001b[0m         )\n\u001b[0;32m    366\u001b[0m \u001b[1;33m\u001b[0m\u001b[0m\n\u001b[1;32m--> 367\u001b[1;33m         \u001b[0msuper\u001b[0m\u001b[1;33m(\u001b[0m\u001b[1;33m)\u001b[0m\u001b[1;33m.\u001b[0m\u001b[0m__init__\u001b[0m\u001b[1;33m(\u001b[0m\u001b[0mdata\u001b[0m\u001b[1;33m=\u001b[0m\u001b[0mdata\u001b[0m\u001b[1;33m,\u001b[0m \u001b[0mvariables\u001b[0m\u001b[1;33m=\u001b[0m\u001b[0mvariables\u001b[0m\u001b[1;33m)\u001b[0m\u001b[1;33m\u001b[0m\u001b[1;33m\u001b[0m\u001b[0m\n\u001b[0m\u001b[0;32m    368\u001b[0m \u001b[1;33m\u001b[0m\u001b[0m\n\u001b[0;32m    369\u001b[0m         \u001b[0mself\u001b[0m\u001b[1;33m.\u001b[0m\u001b[0mestimator\u001b[0m \u001b[1;33m=\u001b[0m \u001b[0mestimator\u001b[0m\u001b[1;33m\u001b[0m\u001b[1;33m\u001b[0m\u001b[0m\n",
      "\u001b[1;32mC:\\ProgramData\\Anaconda3\\lib\\site-packages\\seaborn\\_core.py\u001b[0m in \u001b[0;36m__init__\u001b[1;34m(self, data, variables)\u001b[0m\n\u001b[0;32m    603\u001b[0m     \u001b[1;32mdef\u001b[0m \u001b[0m__init__\u001b[0m\u001b[1;33m(\u001b[0m\u001b[0mself\u001b[0m\u001b[1;33m,\u001b[0m \u001b[0mdata\u001b[0m\u001b[1;33m=\u001b[0m\u001b[1;32mNone\u001b[0m\u001b[1;33m,\u001b[0m \u001b[0mvariables\u001b[0m\u001b[1;33m=\u001b[0m\u001b[1;33m{\u001b[0m\u001b[1;33m}\u001b[0m\u001b[1;33m)\u001b[0m\u001b[1;33m:\u001b[0m\u001b[1;33m\u001b[0m\u001b[1;33m\u001b[0m\u001b[0m\n\u001b[0;32m    604\u001b[0m \u001b[1;33m\u001b[0m\u001b[0m\n\u001b[1;32m--> 605\u001b[1;33m         \u001b[0mself\u001b[0m\u001b[1;33m.\u001b[0m\u001b[0massign_variables\u001b[0m\u001b[1;33m(\u001b[0m\u001b[0mdata\u001b[0m\u001b[1;33m,\u001b[0m \u001b[0mvariables\u001b[0m\u001b[1;33m)\u001b[0m\u001b[1;33m\u001b[0m\u001b[1;33m\u001b[0m\u001b[0m\n\u001b[0m\u001b[0;32m    606\u001b[0m \u001b[1;33m\u001b[0m\u001b[0m\n\u001b[0;32m    607\u001b[0m         \u001b[1;32mfor\u001b[0m \u001b[0mvar\u001b[0m\u001b[1;33m,\u001b[0m \u001b[0mcls\u001b[0m \u001b[1;32min\u001b[0m \u001b[0mself\u001b[0m\u001b[1;33m.\u001b[0m\u001b[0m_semantic_mappings\u001b[0m\u001b[1;33m.\u001b[0m\u001b[0mitems\u001b[0m\u001b[1;33m(\u001b[0m\u001b[1;33m)\u001b[0m\u001b[1;33m:\u001b[0m\u001b[1;33m\u001b[0m\u001b[1;33m\u001b[0m\u001b[0m\n",
      "\u001b[1;32mC:\\ProgramData\\Anaconda3\\lib\\site-packages\\seaborn\\_core.py\u001b[0m in \u001b[0;36massign_variables\u001b[1;34m(self, data, variables)\u001b[0m\n\u001b[0;32m    666\u001b[0m         \u001b[1;32melse\u001b[0m\u001b[1;33m:\u001b[0m\u001b[1;33m\u001b[0m\u001b[1;33m\u001b[0m\u001b[0m\n\u001b[0;32m    667\u001b[0m             \u001b[0mself\u001b[0m\u001b[1;33m.\u001b[0m\u001b[0minput_format\u001b[0m \u001b[1;33m=\u001b[0m \u001b[1;34m\"long\"\u001b[0m\u001b[1;33m\u001b[0m\u001b[1;33m\u001b[0m\u001b[0m\n\u001b[1;32m--> 668\u001b[1;33m             plot_data, variables = self._assign_variables_longform(\n\u001b[0m\u001b[0;32m    669\u001b[0m                 \u001b[0mdata\u001b[0m\u001b[1;33m,\u001b[0m \u001b[1;33m**\u001b[0m\u001b[0mvariables\u001b[0m\u001b[1;33m,\u001b[0m\u001b[1;33m\u001b[0m\u001b[1;33m\u001b[0m\u001b[0m\n\u001b[0;32m    670\u001b[0m             )\n",
      "\u001b[1;32mC:\\ProgramData\\Anaconda3\\lib\\site-packages\\seaborn\\_core.py\u001b[0m in \u001b[0;36m_assign_variables_longform\u001b[1;34m(self, data, **kwargs)\u001b[0m\n\u001b[0;32m    925\u001b[0m         \u001b[1;31m# Construct a tidy plot DataFrame. This will convert a number of\u001b[0m\u001b[1;33m\u001b[0m\u001b[1;33m\u001b[0m\u001b[0m\n\u001b[0;32m    926\u001b[0m         \u001b[1;31m# types automatically, aligning on index in case of pandas objects\u001b[0m\u001b[1;33m\u001b[0m\u001b[1;33m\u001b[0m\u001b[0m\n\u001b[1;32m--> 927\u001b[1;33m         \u001b[0mplot_data\u001b[0m \u001b[1;33m=\u001b[0m \u001b[0mpd\u001b[0m\u001b[1;33m.\u001b[0m\u001b[0mDataFrame\u001b[0m\u001b[1;33m(\u001b[0m\u001b[0mplot_data\u001b[0m\u001b[1;33m)\u001b[0m\u001b[1;33m\u001b[0m\u001b[1;33m\u001b[0m\u001b[0m\n\u001b[0m\u001b[0;32m    928\u001b[0m \u001b[1;33m\u001b[0m\u001b[0m\n\u001b[0;32m    929\u001b[0m         \u001b[1;31m# Reduce the variables dictionary to fields with valid data\u001b[0m\u001b[1;33m\u001b[0m\u001b[1;33m\u001b[0m\u001b[0m\n",
      "\u001b[1;32mC:\\ProgramData\\Anaconda3\\lib\\site-packages\\pandas\\core\\frame.py\u001b[0m in \u001b[0;36m__init__\u001b[1;34m(self, data, index, columns, dtype, copy)\u001b[0m\n\u001b[0;32m    612\u001b[0m         \u001b[1;32melif\u001b[0m \u001b[0misinstance\u001b[0m\u001b[1;33m(\u001b[0m\u001b[0mdata\u001b[0m\u001b[1;33m,\u001b[0m \u001b[0mdict\u001b[0m\u001b[1;33m)\u001b[0m\u001b[1;33m:\u001b[0m\u001b[1;33m\u001b[0m\u001b[1;33m\u001b[0m\u001b[0m\n\u001b[0;32m    613\u001b[0m             \u001b[1;31m# GH#38939 de facto copy defaults to False only in non-dict cases\u001b[0m\u001b[1;33m\u001b[0m\u001b[1;33m\u001b[0m\u001b[0m\n\u001b[1;32m--> 614\u001b[1;33m             \u001b[0mmgr\u001b[0m \u001b[1;33m=\u001b[0m \u001b[0mdict_to_mgr\u001b[0m\u001b[1;33m(\u001b[0m\u001b[0mdata\u001b[0m\u001b[1;33m,\u001b[0m \u001b[0mindex\u001b[0m\u001b[1;33m,\u001b[0m \u001b[0mcolumns\u001b[0m\u001b[1;33m,\u001b[0m \u001b[0mdtype\u001b[0m\u001b[1;33m=\u001b[0m\u001b[0mdtype\u001b[0m\u001b[1;33m,\u001b[0m \u001b[0mcopy\u001b[0m\u001b[1;33m=\u001b[0m\u001b[0mcopy\u001b[0m\u001b[1;33m,\u001b[0m \u001b[0mtyp\u001b[0m\u001b[1;33m=\u001b[0m\u001b[0mmanager\u001b[0m\u001b[1;33m)\u001b[0m\u001b[1;33m\u001b[0m\u001b[1;33m\u001b[0m\u001b[0m\n\u001b[0m\u001b[0;32m    615\u001b[0m         \u001b[1;32melif\u001b[0m \u001b[0misinstance\u001b[0m\u001b[1;33m(\u001b[0m\u001b[0mdata\u001b[0m\u001b[1;33m,\u001b[0m \u001b[0mma\u001b[0m\u001b[1;33m.\u001b[0m\u001b[0mMaskedArray\u001b[0m\u001b[1;33m)\u001b[0m\u001b[1;33m:\u001b[0m\u001b[1;33m\u001b[0m\u001b[1;33m\u001b[0m\u001b[0m\n\u001b[0;32m    616\u001b[0m             \u001b[1;32mimport\u001b[0m \u001b[0mnumpy\u001b[0m\u001b[1;33m.\u001b[0m\u001b[0mma\u001b[0m\u001b[1;33m.\u001b[0m\u001b[0mmrecords\u001b[0m \u001b[1;32mas\u001b[0m \u001b[0mmrecords\u001b[0m\u001b[1;33m\u001b[0m\u001b[1;33m\u001b[0m\u001b[0m\n",
      "\u001b[1;32mC:\\ProgramData\\Anaconda3\\lib\\site-packages\\pandas\\core\\internals\\construction.py\u001b[0m in \u001b[0;36mdict_to_mgr\u001b[1;34m(data, index, columns, dtype, typ, copy)\u001b[0m\n\u001b[0;32m    462\u001b[0m         \u001b[1;31m# TODO: can we get rid of the dt64tz special case above?\u001b[0m\u001b[1;33m\u001b[0m\u001b[1;33m\u001b[0m\u001b[0m\n\u001b[0;32m    463\u001b[0m \u001b[1;33m\u001b[0m\u001b[0m\n\u001b[1;32m--> 464\u001b[1;33m     return arrays_to_mgr(\n\u001b[0m\u001b[0;32m    465\u001b[0m         \u001b[0marrays\u001b[0m\u001b[1;33m,\u001b[0m \u001b[0mdata_names\u001b[0m\u001b[1;33m,\u001b[0m \u001b[0mindex\u001b[0m\u001b[1;33m,\u001b[0m \u001b[0mcolumns\u001b[0m\u001b[1;33m,\u001b[0m \u001b[0mdtype\u001b[0m\u001b[1;33m=\u001b[0m\u001b[0mdtype\u001b[0m\u001b[1;33m,\u001b[0m \u001b[0mtyp\u001b[0m\u001b[1;33m=\u001b[0m\u001b[0mtyp\u001b[0m\u001b[1;33m,\u001b[0m \u001b[0mconsolidate\u001b[0m\u001b[1;33m=\u001b[0m\u001b[0mcopy\u001b[0m\u001b[1;33m\u001b[0m\u001b[1;33m\u001b[0m\u001b[0m\n\u001b[0;32m    466\u001b[0m     )\n",
      "\u001b[1;32mC:\\ProgramData\\Anaconda3\\lib\\site-packages\\pandas\\core\\internals\\construction.py\u001b[0m in \u001b[0;36marrays_to_mgr\u001b[1;34m(arrays, arr_names, index, columns, dtype, verify_integrity, typ, consolidate)\u001b[0m\n\u001b[0;32m    117\u001b[0m         \u001b[1;31m# figure out the index, if necessary\u001b[0m\u001b[1;33m\u001b[0m\u001b[1;33m\u001b[0m\u001b[0m\n\u001b[0;32m    118\u001b[0m         \u001b[1;32mif\u001b[0m \u001b[0mindex\u001b[0m \u001b[1;32mis\u001b[0m \u001b[1;32mNone\u001b[0m\u001b[1;33m:\u001b[0m\u001b[1;33m\u001b[0m\u001b[1;33m\u001b[0m\u001b[0m\n\u001b[1;32m--> 119\u001b[1;33m             \u001b[0mindex\u001b[0m \u001b[1;33m=\u001b[0m \u001b[0m_extract_index\u001b[0m\u001b[1;33m(\u001b[0m\u001b[0marrays\u001b[0m\u001b[1;33m)\u001b[0m\u001b[1;33m\u001b[0m\u001b[1;33m\u001b[0m\u001b[0m\n\u001b[0m\u001b[0;32m    120\u001b[0m         \u001b[1;32melse\u001b[0m\u001b[1;33m:\u001b[0m\u001b[1;33m\u001b[0m\u001b[1;33m\u001b[0m\u001b[0m\n\u001b[0;32m    121\u001b[0m             \u001b[0mindex\u001b[0m \u001b[1;33m=\u001b[0m \u001b[0mensure_index\u001b[0m\u001b[1;33m(\u001b[0m\u001b[0mindex\u001b[0m\u001b[1;33m)\u001b[0m\u001b[1;33m\u001b[0m\u001b[1;33m\u001b[0m\u001b[0m\n",
      "\u001b[1;32mC:\\ProgramData\\Anaconda3\\lib\\site-packages\\pandas\\core\\internals\\construction.py\u001b[0m in \u001b[0;36m_extract_index\u001b[1;34m(data)\u001b[0m\n\u001b[0;32m    633\u001b[0m             \u001b[0mlengths\u001b[0m \u001b[1;33m=\u001b[0m \u001b[0mlist\u001b[0m\u001b[1;33m(\u001b[0m\u001b[0mset\u001b[0m\u001b[1;33m(\u001b[0m\u001b[0mraw_lengths\u001b[0m\u001b[1;33m)\u001b[0m\u001b[1;33m)\u001b[0m\u001b[1;33m\u001b[0m\u001b[1;33m\u001b[0m\u001b[0m\n\u001b[0;32m    634\u001b[0m             \u001b[1;32mif\u001b[0m \u001b[0mlen\u001b[0m\u001b[1;33m(\u001b[0m\u001b[0mlengths\u001b[0m\u001b[1;33m)\u001b[0m \u001b[1;33m>\u001b[0m \u001b[1;36m1\u001b[0m\u001b[1;33m:\u001b[0m\u001b[1;33m\u001b[0m\u001b[1;33m\u001b[0m\u001b[0m\n\u001b[1;32m--> 635\u001b[1;33m                 \u001b[1;32mraise\u001b[0m \u001b[0mValueError\u001b[0m\u001b[1;33m(\u001b[0m\u001b[1;34m\"All arrays must be of the same length\"\u001b[0m\u001b[1;33m)\u001b[0m\u001b[1;33m\u001b[0m\u001b[1;33m\u001b[0m\u001b[0m\n\u001b[0m\u001b[0;32m    636\u001b[0m \u001b[1;33m\u001b[0m\u001b[0m\n\u001b[0;32m    637\u001b[0m             \u001b[1;32mif\u001b[0m \u001b[0mhave_dicts\u001b[0m\u001b[1;33m:\u001b[0m\u001b[1;33m\u001b[0m\u001b[1;33m\u001b[0m\u001b[0m\n",
      "\u001b[1;31mValueError\u001b[0m: All arrays must be of the same length"
     ]
    }
   ],
   "source": [
    "import seaborn as sns\n",
    "data = [1,2,19,3,6,14]\n",
    "sns.lineplot(range(7), data)"
   ]
  },
  {
   "cell_type": "code",
   "execution_count": 40,
   "id": "ce2d295e",
   "metadata": {},
   "outputs": [],
   "source": [
    "def foo():\n",
    "    print(\"This is foo\")\n",
    "    return \"Hello world\""
   ]
  },
  {
   "cell_type": "code",
   "execution_count": 41,
   "id": "4c5c9f39",
   "metadata": {},
   "outputs": [
    {
     "name": "stdout",
     "output_type": "stream",
     "text": [
      "1200\n"
     ]
    }
   ],
   "source": [
    "price = 1200\n",
    "\n",
    "def update_price(new_price):\n",
    "    price = new_price\n",
    "    return price\n",
    "update_price(1500)\n",
    "print(price)"
   ]
  },
  {
   "cell_type": "code",
   "execution_count": 42,
   "id": "5318a63f",
   "metadata": {},
   "outputs": [
    {
     "data": {
      "text/plain": [
       "8"
      ]
     },
     "execution_count": 42,
     "metadata": {},
     "output_type": "execute_result"
    }
   ],
   "source": [
    "def myproduct(num1,num2):\n",
    "    return(num1*num2)\n",
    "myproduct(2,4)"
   ]
  },
  {
   "cell_type": "markdown",
   "id": "2cd81c5b",
   "metadata": {},
   "source": [
    "LIST - TUPLES"
   ]
  },
  {
   "cell_type": "code",
   "execution_count": 43,
   "id": "cdf10eb2",
   "metadata": {},
   "outputs": [],
   "source": [
    "shopping_list = [\"Apple\",\"Juice\",\"Ball\",\"Book\"]"
   ]
  },
  {
   "cell_type": "code",
   "execution_count": 44,
   "id": "1852778d",
   "metadata": {},
   "outputs": [
    {
     "name": "stdout",
     "output_type": "stream",
     "text": [
      "['Apple', 'Juice', 'Ball', 'Book', 'Water']\n"
     ]
    }
   ],
   "source": [
    "shopping_list.append(\"Water\")\n",
    "print(shopping_list)"
   ]
  },
  {
   "cell_type": "code",
   "execution_count": 1,
   "id": "582e3dde",
   "metadata": {},
   "outputs": [],
   "source": [
    "shopping_list  = (\"Apple\", \"Juice\", \"Ball\", \"Book\")"
   ]
  },
  {
   "cell_type": "code",
   "execution_count": 2,
   "id": "40ddc187",
   "metadata": {},
   "outputs": [
    {
     "name": "stdout",
     "output_type": "stream",
     "text": [
      "Apple\n",
      "Juice\n",
      "Ball\n",
      "Book\n"
     ]
    }
   ],
   "source": [
    "item1, item2, item3, item4 = shopping_list\n",
    "print(item1)\n",
    "print(item2)\n",
    "print(item3)\n",
    "print(item4)"
   ]
  },
  {
   "cell_type": "markdown",
   "id": "2f008d44",
   "metadata": {},
   "source": [
    "DICTIONARİES"
   ]
  },
  {
   "cell_type": "code",
   "execution_count": 3,
   "id": "b720827e",
   "metadata": {},
   "outputs": [
    {
     "name": "stdout",
     "output_type": "stream",
     "text": [
      "{'Deniz Kaya': '+90 522 222 22 22', 'Halil Ibrahim Tas': '+90 533 333 33 33'}\n"
     ]
    }
   ],
   "source": [
    "phone_book = {\"Deniz Kaya\": \"+90 522 222 22 22\", \"Halil Ibrahim Tas\":\"+90 533 333 33 33\"}\n",
    "print(phone_book)"
   ]
  },
  {
   "cell_type": "code",
   "execution_count": 4,
   "id": "d67f4720",
   "metadata": {},
   "outputs": [
    {
     "name": "stdout",
     "output_type": "stream",
     "text": [
      "+90 522 222 22 22\n"
     ]
    }
   ],
   "source": [
    "print(phone_book[\"Deniz Kaya\"])"
   ]
  },
  {
   "cell_type": "code",
   "execution_count": 5,
   "id": "06e96184",
   "metadata": {},
   "outputs": [],
   "source": [
    "inventory = dict()\n",
    "inventory[\"bananas\"] = 25\n",
    "inventory[\"apples\"] = 102\n",
    "inventory[\"oranges\"] = 54\n",
    "inventory[\"watermelons\"] = 4"
   ]
  },
  {
   "cell_type": "code",
   "execution_count": 6,
   "id": "808b55e1",
   "metadata": {},
   "outputs": [
    {
     "name": "stdout",
     "output_type": "stream",
     "text": [
      "{'bananas': 25, 'apples': 102, 'oranges': 54, 'watermelons': 4}\n"
     ]
    }
   ],
   "source": [
    "print(inventory)"
   ]
  },
  {
   "cell_type": "code",
   "execution_count": 7,
   "id": "2af77606",
   "metadata": {},
   "outputs": [
    {
     "name": "stdout",
     "output_type": "stream",
     "text": [
      "dict_keys(['bananas', 'apples', 'oranges', 'watermelons'])\n"
     ]
    }
   ],
   "source": [
    "print(inventory.keys())"
   ]
  },
  {
   "cell_type": "code",
   "execution_count": 8,
   "id": "26df63c6",
   "metadata": {},
   "outputs": [
    {
     "name": "stdout",
     "output_type": "stream",
     "text": [
      "dict_values([25, 102, 54, 4])\n"
     ]
    }
   ],
   "source": [
    "print(inventory.values())"
   ]
  },
  {
   "cell_type": "code",
   "execution_count": 9,
   "id": "7843da97",
   "metadata": {},
   "outputs": [
    {
     "name": "stdout",
     "output_type": "stream",
     "text": [
      "dict_items([('bananas', 25), ('apples', 102), ('oranges', 54), ('watermelons', 4)])\n"
     ]
    }
   ],
   "source": [
    "print(inventory.items())"
   ]
  },
  {
   "cell_type": "code",
   "execution_count": 10,
   "id": "6f962810",
   "metadata": {},
   "outputs": [
    {
     "name": "stdout",
     "output_type": "stream",
     "text": [
      "bananas\n",
      "apples\n",
      "oranges\n",
      "watermelons\n"
     ]
    }
   ],
   "source": [
    "for element in inventory:\n",
    "    print(element)"
   ]
  },
  {
   "cell_type": "code",
   "execution_count": 11,
   "id": "bb889907",
   "metadata": {},
   "outputs": [
    {
     "name": "stdout",
     "output_type": "stream",
     "text": [
      "Enough bananas\n",
      "Enough apples\n",
      "Enough oranges\n",
      "Enough watermelons\n"
     ]
    }
   ],
   "source": [
    "for key,value in inventory.items():\n",
    "    if value>200:\n",
    "        print(\"Too many\", key)\n",
    "    else:\n",
    "        print(\"Enough\", key)"
   ]
  },
  {
   "cell_type": "code",
   "execution_count": 2,
   "id": "cbe0d70b",
   "metadata": {},
   "outputs": [
    {
     "name": "stdout",
     "output_type": "stream",
     "text": [
      "<class 'float'>\n"
     ]
    }
   ],
   "source": [
    "value = 20\n",
    "value = value/1.0\n",
    "print(type(value))"
   ]
  },
  {
   "cell_type": "markdown",
   "id": "9344da7e",
   "metadata": {},
   "source": [
    "FILE OPERATIONS"
   ]
  },
  {
   "cell_type": "code",
   "execution_count": 8,
   "id": "237dd95b",
   "metadata": {},
   "outputs": [
    {
     "name": "stdout",
     "output_type": "stream",
     "text": [
      "C:\\Users\\90536\\Desktop\\Global AI Hub - Python Introduction\\file_operations\n"
     ]
    }
   ],
   "source": [
    "%cd C:\\Users\\90536\\Desktop\\Global AI Hub - Python Introduction\\file_operations"
   ]
  },
  {
   "cell_type": "code",
   "execution_count": 10,
   "id": "434b1e53",
   "metadata": {},
   "outputs": [],
   "source": [
    "message_file = open(\"message.txt\", \"r\")"
   ]
  },
  {
   "cell_type": "code",
   "execution_count": 11,
   "id": "a60426d4",
   "metadata": {},
   "outputs": [],
   "source": [
    "content = message_file.read()\n",
    "message_file.close()"
   ]
  },
  {
   "cell_type": "code",
   "execution_count": 12,
   "id": "f6676db1",
   "metadata": {},
   "outputs": [
    {
     "name": "stdout",
     "output_type": "stream",
     "text": [
      "\n"
     ]
    }
   ],
   "source": [
    "print(content)"
   ]
  },
  {
   "cell_type": "code",
   "execution_count": 13,
   "id": "ed469989",
   "metadata": {},
   "outputs": [],
   "source": [
    "hello_file = open(\"message.txt\",\"w\")"
   ]
  },
  {
   "cell_type": "code",
   "execution_count": 14,
   "id": "745064cf",
   "metadata": {},
   "outputs": [],
   "source": [
    "hello_file.write(\"Hello world, thiss is Python\")\n",
    "hello_file.close()"
   ]
  },
  {
   "cell_type": "code",
   "execution_count": 15,
   "id": "e07eb36f",
   "metadata": {},
   "outputs": [
    {
     "name": "stdout",
     "output_type": "stream",
     "text": [
      "Hello world, thiss is Python\n"
     ]
    }
   ],
   "source": [
    "message_file = open(\"message.txt\", \"r\")\n",
    "content = message_file.read()\n",
    "message_file.close()\n",
    "print(content)"
   ]
  },
  {
   "cell_type": "code",
   "execution_count": 17,
   "id": "32eafab1",
   "metadata": {
    "scrolled": true
   },
   "outputs": [
    {
     "name": "stdout",
     "output_type": "stream",
     "text": [
      "592\n",
      "876\n",
      "896\n",
      "194\n",
      "722\n",
      "970\n",
      "950\n",
      "973\n",
      "72\n",
      "968\n",
      "54\n",
      "3\n",
      "179\n",
      "717\n",
      "779\n",
      "655\n",
      "638\n",
      "614\n",
      "907\n",
      "412\n",
      "313\n",
      "684\n",
      "968\n",
      "55\n",
      "796\n",
      "443\n",
      "684\n",
      "442\n",
      "420\n",
      "921\n",
      "920\n",
      "45\n",
      "664\n",
      "197\n",
      "155\n",
      "14\n",
      "725\n",
      "506\n",
      "53\n",
      "604\n",
      "194\n",
      "583\n",
      "592\n",
      "608\n",
      "706\n",
      "182\n",
      "411\n",
      "641\n",
      "143\n",
      "350\n",
      "813\n",
      "946\n",
      "538\n",
      "300\n",
      "621\n",
      "35\n",
      "340\n",
      "192\n",
      "721\n",
      "857\n",
      "758\n",
      "324\n",
      "212\n",
      "641\n",
      "529\n",
      "173\n",
      "895\n",
      "533\n",
      "550\n",
      "463\n",
      "420\n",
      "475\n",
      "76\n",
      "371\n",
      "363\n",
      "484\n",
      "773\n",
      "151\n",
      "805\n",
      "191\n",
      "601\n",
      "361\n",
      "833\n",
      "461\n",
      "26\n",
      "39\n",
      "786\n",
      "744\n",
      "186\n",
      "554\n",
      "265\n",
      "71\n",
      "69\n",
      "950\n",
      "461\n",
      "138\n",
      "544\n",
      "54\n",
      "673\n",
      "639\n",
      "519\n",
      "666\n",
      "424\n",
      "146\n",
      "747\n",
      "452\n",
      "871\n",
      "66\n",
      "370\n",
      "373\n",
      "325\n",
      "462\n",
      "396\n",
      "86\n",
      "312\n",
      "100\n",
      "852\n",
      "745\n",
      "597\n",
      "558\n",
      "962\n",
      "118\n",
      "453\n",
      "408\n",
      "152\n",
      "293\n",
      "934\n",
      "410\n",
      "534\n",
      "383\n",
      "722\n",
      "249\n",
      "676\n",
      "385\n",
      "204\n",
      "944\n",
      "888\n",
      "817\n",
      "759\n",
      "856\n",
      "957\n",
      "49\n",
      "404\n",
      "509\n",
      "90\n",
      "255\n",
      "728\n",
      "430\n",
      "819\n",
      "525\n",
      "893\n",
      "343\n",
      "485\n",
      "226\n",
      "33\n",
      "783\n",
      "829\n",
      "299\n",
      "680\n",
      "252\n",
      "801\n",
      "380\n",
      "560\n",
      "375\n",
      "887\n",
      "976\n",
      "402\n",
      "820\n",
      "515\n",
      "450\n",
      "745\n",
      "51\n",
      "555\n",
      "833\n",
      "97\n",
      "684\n",
      "354\n",
      "164\n",
      "998\n",
      "365\n",
      "125\n",
      "100\n",
      "907\n",
      "66\n",
      "766\n",
      "968\n",
      "695\n",
      "368\n",
      "175\n",
      "438\n",
      "207\n",
      "463\n",
      "715\n",
      "291\n",
      "208\n",
      "937\n",
      "928\n",
      "607\n",
      "765\n",
      "123\n",
      "186\n",
      "195\n",
      "644\n",
      "51\n",
      "521\n",
      "260\n",
      "500\n",
      "443\n",
      "630\n",
      "517\n",
      "861\n",
      "568\n",
      "702\n",
      "475\n",
      "776\n",
      "249\n",
      "571\n",
      "94\n",
      "215\n",
      "709\n",
      "737\n",
      "693\n",
      "429\n",
      "401\n",
      "582\n",
      "258\n",
      "963\n",
      "128\n",
      "768\n",
      "542\n",
      "172\n",
      "21\n",
      "353\n",
      "708\n",
      "17\n",
      "346\n",
      "884\n",
      "465\n",
      "229\n",
      "550\n",
      "971\n",
      "822\n",
      "454\n",
      "245\n",
      "305\n",
      "252\n",
      "657\n",
      "833\n",
      "406\n",
      "612\n",
      "330\n",
      "536\n",
      "636\n",
      "429\n",
      "834\n",
      "369\n",
      "237\n",
      "485\n",
      "268\n",
      "768\n",
      "35\n",
      "548\n",
      "97\n",
      "817\n",
      "121\n",
      "948\n",
      "993\n",
      "272\n",
      "813\n",
      "101\n",
      "141\n",
      "670\n",
      "448\n",
      "891\n",
      "404\n",
      "832\n",
      "2\n",
      "526\n",
      "158\n",
      "940\n",
      "48\n",
      "211\n",
      "494\n",
      "425\n",
      "179\n",
      "620\n",
      "157\n",
      "338\n",
      "73\n",
      "235\n",
      "835\n",
      "330\n",
      "18\n",
      "94\n",
      "595\n",
      "336\n",
      "994\n",
      "607\n",
      "438\n",
      "395\n",
      "196\n",
      "312\n",
      "771\n",
      "370\n",
      "837\n",
      "560\n",
      "115\n",
      "966\n",
      "384\n",
      "358\n",
      "418\n",
      "683\n",
      "760\n",
      "374\n",
      "183\n",
      "253\n",
      "449\n",
      "498\n",
      "708\n",
      "147\n",
      "725\n",
      "616\n",
      "604\n",
      "929\n",
      "454\n",
      "358\n",
      "452\n",
      "194\n",
      "752\n",
      "91\n",
      "990\n",
      "784\n",
      "989\n",
      "335\n",
      "168\n",
      "89\n",
      "67\n",
      "298\n",
      "490\n",
      "431\n",
      "847\n",
      "228\n",
      "438\n",
      "343\n",
      "522\n",
      "81\n",
      "166\n",
      "192\n",
      "802\n",
      "567\n",
      "192\n",
      "638\n",
      "982\n",
      "300\n",
      "271\n",
      "801\n",
      "820\n",
      "438\n",
      "434\n",
      "777\n",
      "Found!\n"
     ]
    }
   ],
   "source": [
    "import random\n",
    "\n",
    "numbers_file = open(\"number_history.txt\",\"w\")\n",
    "\n",
    "while True:\n",
    "    random_number = random.randrange(1000)\n",
    "    print(random_number)\n",
    "    numbers_file.write(str(random_number))\n",
    "    numbers_file.write(\"\\n\")\n",
    "    \n",
    "    if random_number == 777:\n",
    "        print(\"Found!\")\n",
    "        numbers_file.write(\"Found!\")\n",
    "        numbers_file.close()\n",
    "        break"
   ]
  },
  {
   "cell_type": "code",
   "execution_count": 18,
   "id": "8d07701b",
   "metadata": {},
   "outputs": [
    {
     "name": "stdout",
     "output_type": "stream",
     "text": [
      "26\n",
      "779\n",
      "591\n",
      "554\n",
      "908\n",
      "516\n",
      "126\n",
      "986\n",
      "781\n",
      "753\n",
      "63\n",
      "792\n",
      "278\n",
      "345\n",
      "476\n",
      "89\n",
      "315\n",
      "965\n",
      "197\n",
      "183\n",
      "686\n",
      "564\n",
      "519\n",
      "69\n",
      "265\n",
      "548\n",
      "133\n",
      "494\n",
      "426\n",
      "26\n",
      "780\n",
      "925\n",
      "456\n",
      "866\n",
      "564\n",
      "618\n",
      "580\n",
      "540\n",
      "971\n",
      "706\n",
      "428\n",
      "158\n",
      "873\n",
      "488\n",
      "21\n",
      "957\n",
      "379\n",
      "777\n",
      "Found!\n"
     ]
    }
   ],
   "source": [
    "import random\n",
    "\n",
    "with open(\"number_history.txt\",\"w\") as numbers_file:\n",
    "    while True:\n",
    "        \n",
    "        random_number = random.randrange(1000)\n",
    "        print(random_number)\n",
    "        numbers_file.write(str(random_number))\n",
    "        numbers_file.write(\"\\n\")\n",
    "        \n",
    "        if random_number == 777:\n",
    "            print(\"Found!\")\n",
    "            numbers_file.write(\"Found!\")\n",
    "            break"
   ]
  },
  {
   "cell_type": "markdown",
   "id": "088eac34",
   "metadata": {},
   "source": [
    "TRY-EXCEPTION"
   ]
  },
  {
   "cell_type": "code",
   "execution_count": 22,
   "id": "248879cd",
   "metadata": {},
   "outputs": [
    {
     "name": "stdout",
     "output_type": "stream",
     "text": [
      "Please provide a number1: 10\n",
      "Please provide a number2: 15\n",
      "0.6666666666666666\n"
     ]
    }
   ],
   "source": [
    "def divide(num1, num2):\n",
    "    try:\n",
    "        num1_int = int(num1)\n",
    "        num2_int = int(num2)\n",
    "        return num1_int / num2_int\n",
    "    except:\n",
    "        return \"Only integers are allowed! Try again.\"\n",
    "    \n",
    "num1 = input(\"Please provide a number1: \")\n",
    "num2 = input(\"Please provide a number2: \")\n",
    "print(divide(num1, num2))"
   ]
  },
  {
   "cell_type": "code",
   "execution_count": 23,
   "id": "6e8aaaca",
   "metadata": {},
   "outputs": [
    {
     "name": "stdout",
     "output_type": "stream",
     "text": [
      "Please provide a number1: 15\n",
      "Please provide a number2: 20\n",
      "0.75\n"
     ]
    }
   ],
   "source": [
    "def divide(number1, number2):\n",
    "   try:\n",
    "       number1_integer = int(number1)\n",
    "       number2_integer = int(number2)\n",
    "       return number1_integer / number2_integer\n",
    "  \n",
    "   except ValueError:\n",
    "       return 'Only integers are allowed!'\n",
    " \n",
    "   except ZeroDivisionError:\n",
    "       return 'You cannot divide any number by zero!'\n",
    "\n",
    "\n",
    "\n",
    "number1 = input('Please provide a number1: ')\n",
    "number2 = input('Please provide a number2: ')\n",
    " \n",
    "print(divide(number1, number2))"
   ]
  }
 ],
 "metadata": {
  "kernelspec": {
   "display_name": "Python 3 (ipykernel)",
   "language": "python",
   "name": "python3"
  },
  "language_info": {
   "codemirror_mode": {
    "name": "ipython",
    "version": 3
   },
   "file_extension": ".py",
   "mimetype": "text/x-python",
   "name": "python",
   "nbconvert_exporter": "python",
   "pygments_lexer": "ipython3",
   "version": "3.9.7"
  }
 },
 "nbformat": 4,
 "nbformat_minor": 5
}
